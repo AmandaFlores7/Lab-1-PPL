{
 "cells": [
  {
   "cell_type": "code",
   "execution_count": null,
   "metadata": {},
   "outputs": [],
   "source": [
    "import numpy as np\n",
    "import matplotlib.pyplot as plt\n",
    "from scipy import optimize"
   ]
  },
  {
   "cell_type": "code",
   "execution_count": 65,
   "metadata": {},
   "outputs": [],
   "source": [
    "def inputNumerico(string):\n",
    "    while(True):\n",
    "        valor = float(input(string))\n",
    "        if(isinstance(valor, float)):\n",
    "            return valor\n",
    "        else:\n",
    "            print(\"Error, ingrese un valor numerico\")"
   ]
  },
  {
   "cell_type": "code",
   "execution_count": null,
   "metadata": {},
   "outputs": [
    {
     "ename": "",
     "evalue": "",
     "output_type": "error",
     "traceback": [
      "\u001b[1;31mRunning cells with 'Python 3.10.7 64-bit' requires ipykernel package.\n",
      "\u001b[1;31mRun the following command to install 'ipykernel' into the Python environment. \n",
      "\u001b[1;31mCommand: '/usr/local/bin/python3 -m pip install ipykernel -U --user --force-reinstall'"
     ]
    }
   ],
   "source": [
    "def validacionCantidadR(string):\n",
    "    while(True):\n",
    "        r = int(input(string))\n",
    "        if (r < 6):\n",
    "            return r\n",
    "        else:\n",
    "            print(\"Ingrese un valor menor o igual a 5\")"
   ]
  },
  {
   "cell_type": "code",
   "execution_count": 67,
   "metadata": {},
   "outputs": [],
   "source": [
    "def validacionIgualdad(string):\n",
    "    while(True):\n",
    "        igualdad = input(string)\n",
    "        if igualdad==\"<=\":\n",
    "            return 0\n",
    "        elif igualdad==\">=\":\n",
    "            return 1\n",
    "        elif igualdad==\"=\":\n",
    "            return 2\n",
    "        else:\n",
    "            print(\"Ingrese un signo valido\")"
   ]
  },
  {
   "cell_type": "code",
   "execution_count": 68,
   "metadata": {},
   "outputs": [],
   "source": [
    "def agregarRestriccion(R1,R2,I,C):\n",
    "    if I==0:\n",
    "        return [[R1,R2,C,I]]\n",
    "    elif I==1:\n",
    "        return [[-R1,-R2,-C,0]]\n",
    "    elif I==2:\n",
    "        return [[R1,R2,I,C],[-R1,-R2,-C,0]]"
   ]
  },
  {
   "cell_type": "code",
   "execution_count": 69,
   "metadata": {},
   "outputs": [
    {
     "name": "stdout",
     "output_type": "stream",
     "text": [
      "Ingrese cantidad de restricciones (5 o menos)\n"
     ]
    }
   ],
   "source": [
    "#Cantidad de restricciones\n",
    "print(\"Ingrese cantidad de restricciones (5 o menos)\")\n",
    "r = validacionCantidadR(\"Valor: \")"
   ]
  },
  {
   "cell_type": "code",
   "execution_count": 70,
   "metadata": {},
   "outputs": [
    {
     "name": "stdout",
     "output_type": "stream",
     "text": [
      "Ingrese lo coeficientes para X1 e X2 para la Funcion Objetivo: Z = __X1 + __X2\n"
     ]
    }
   ],
   "source": [
    "#Funcion objetivo\n",
    "print(\"Ingrese lo coeficientes para X1 e X2 para la Funcion Objetivo: Z = __X1 + __X2\")\n",
    "X1_0 = float(inputNumerico(\"Coeficiente de X1: \"))\n",
    "X2_0 = float(inputNumerico(\"Coeficiente de X2: \"))"
   ]
  },
  {
   "cell_type": "code",
   "execution_count": 71,
   "metadata": {},
   "outputs": [
    {
     "name": "stdout",
     "output_type": "stream",
     "text": [
      "Ingrese los coeficientes para la restriccion R 1 : __X1 + __X2 (<=, >=, =) C\n",
      "Ingrese los coeficientes para la restriccion R 2 : __X1 + __X2 (<=, >=, =) C\n",
      "Ingrese los coeficientes para la restriccion R 3 : __X1 + __X2 (<=, >=, =) C\n",
      "[[-2.0, -3.0, 0, -5.0], [3.0, 2.0, 0.0, 10.0], [-6.0, -0.0, 0, -2.0]]\n",
      "3\n"
     ]
    }
   ],
   "source": [
    "arregloRestricciones = []\n",
    "\n",
    "for index in range(r):\n",
    "    print(\"Ingrese los coeficientes para la restriccion R\",index+1,\": __X1 + __X2 (<=, >=, =) C\")\n",
    "    R1 = float(inputNumerico(\"Coeficiente de X1: \"))\n",
    "    R2 = float(inputNumerico(\"Coeficiente de X2: \"))\n",
    "    I = float(validacionIgualdad(\"Signo igualdad: \"))\n",
    "    C = float(inputNumerico(\"Coeficiente C: \"))\n",
    "    arregloRestricciones.extend(agregarRestriccion(R1,R2,I,C))\n",
    "    \n",
    "print(arregloRestricciones)\n",
    "print(len(arregloRestricciones))"
   ]
  },
  {
   "cell_type": "code",
   "execution_count": 158,
   "metadata": {},
   "outputs": [],
   "source": [
    "size=7\n",
    "rangoX=np.linspace(0,size,500)\n",
    "rangoY=np.linspace(0,size,500)"
   ]
  },
  {
   "cell_type": "code",
   "execution_count": 159,
   "metadata": {},
   "outputs": [
    {
     "name": "stdout",
     "output_type": "stream",
     "text": [
      "-2.0\n",
      "-3.0\n",
      "-5.0\n",
      "3.0\n",
      "2.0\n",
      "10.0\n",
      "-6.0\n",
      "-0.0\n",
      "-2.0\n",
      "---\n",
      "[array([0.33333333, 0.33333333, 0.33333333, 0.33333333, 0.33333333,\n",
      "       0.33333333, 0.33333333, 0.33333333, 0.33333333, 0.33333333,\n",
      "       0.33333333, 0.33333333, 0.33333333, 0.33333333, 0.33333333,\n",
      "       0.33333333, 0.33333333, 0.33333333, 0.33333333, 0.33333333,\n",
      "       0.33333333, 0.33333333, 0.33333333, 0.33333333, 0.33333333,\n",
      "       0.33333333, 0.33333333, 0.33333333, 0.33333333, 0.33333333,\n",
      "       0.33333333, 0.33333333, 0.33333333, 0.33333333, 0.33333333,\n",
      "       0.33333333, 0.33333333, 0.33333333, 0.33333333, 0.33333333,\n",
      "       0.33333333, 0.33333333, 0.33333333, 0.33333333, 0.33333333,\n",
      "       0.33333333, 0.33333333, 0.33333333, 0.33333333, 0.33333333,\n",
      "       0.33333333, 0.33333333, 0.33333333, 0.33333333, 0.33333333,\n",
      "       0.33333333, 0.33333333, 0.33333333, 0.33333333, 0.33333333,\n",
      "       0.33333333, 0.33333333, 0.33333333, 0.33333333, 0.33333333,\n",
      "       0.33333333, 0.33333333, 0.33333333, 0.33333333, 0.33333333,\n",
      "       0.33333333, 0.33333333, 0.33333333, 0.33333333, 0.33333333,\n",
      "       0.33333333, 0.33333333, 0.33333333, 0.33333333, 0.33333333,\n",
      "       0.33333333, 0.33333333, 0.33333333, 0.33333333, 0.33333333,\n",
      "       0.33333333, 0.33333333, 0.33333333, 0.33333333, 0.33333333,\n",
      "       0.33333333, 0.33333333, 0.33333333, 0.33333333, 0.33333333,\n",
      "       0.33333333, 0.33333333, 0.33333333, 0.33333333, 0.33333333,\n",
      "       0.33333333, 0.33333333, 0.33333333, 0.33333333, 0.33333333,\n",
      "       0.33333333, 0.33333333, 0.33333333, 0.33333333, 0.33333333,\n",
      "       0.33333333, 0.33333333, 0.33333333, 0.33333333, 0.33333333,\n",
      "       0.33333333, 0.33333333, 0.33333333, 0.33333333, 0.33333333,\n",
      "       0.33333333, 0.33333333, 0.33333333, 0.33333333, 0.33333333,\n",
      "       0.33333333, 0.33333333, 0.33333333, 0.33333333, 0.33333333,\n",
      "       0.33333333, 0.33333333, 0.33333333, 0.33333333, 0.33333333,\n",
      "       0.33333333, 0.33333333, 0.33333333, 0.33333333, 0.33333333,\n",
      "       0.33333333, 0.33333333, 0.33333333, 0.33333333, 0.33333333,\n",
      "       0.33333333, 0.33333333, 0.33333333, 0.33333333, 0.33333333,\n",
      "       0.33333333, 0.33333333, 0.33333333, 0.33333333, 0.33333333,\n",
      "       0.33333333, 0.33333333, 0.33333333, 0.33333333, 0.33333333,\n",
      "       0.33333333, 0.33333333, 0.33333333, 0.33333333, 0.33333333,\n",
      "       0.33333333, 0.33333333, 0.33333333, 0.33333333, 0.33333333,\n",
      "       0.33333333, 0.33333333, 0.33333333, 0.33333333, 0.33333333,\n",
      "       0.33333333, 0.33333333, 0.33333333, 0.33333333, 0.33333333,\n",
      "       0.33333333, 0.33333333, 0.33333333, 0.33333333, 0.33333333,\n",
      "       0.33333333, 0.33333333, 0.33333333, 0.33333333, 0.33333333,\n",
      "       0.33333333, 0.33333333, 0.33333333, 0.33333333, 0.33333333,\n",
      "       0.33333333, 0.33333333, 0.33333333, 0.33333333, 0.33333333,\n",
      "       0.33333333, 0.33333333, 0.33333333, 0.33333333, 0.33333333,\n",
      "       0.33333333, 0.33333333, 0.33333333, 0.33333333, 0.33333333,\n",
      "       0.33333333, 0.33333333, 0.33333333, 0.33333333, 0.33333333,\n",
      "       0.33333333, 0.33333333, 0.33333333, 0.33333333, 0.33333333,\n",
      "       0.33333333, 0.33333333, 0.33333333, 0.33333333, 0.33333333,\n",
      "       0.33333333, 0.33333333, 0.33333333, 0.33333333, 0.33333333,\n",
      "       0.33333333, 0.33333333, 0.33333333, 0.33333333, 0.33333333,\n",
      "       0.33333333, 0.33333333, 0.33333333, 0.33333333, 0.33333333,\n",
      "       0.33333333, 0.33333333, 0.33333333, 0.33333333, 0.33333333,\n",
      "       0.33333333, 0.33333333, 0.33333333, 0.33333333, 0.33333333,\n",
      "       0.33333333, 0.33333333, 0.33333333, 0.33333333, 0.33333333,\n",
      "       0.33333333, 0.33333333, 0.33333333, 0.33333333, 0.33333333,\n",
      "       0.33333333, 0.33333333, 0.33333333, 0.33333333, 0.33333333,\n",
      "       0.33333333, 0.33333333, 0.33333333, 0.33333333, 0.33333333,\n",
      "       0.33333333, 0.33333333, 0.33333333, 0.33333333, 0.33333333,\n",
      "       0.33333333, 0.33333333, 0.33333333, 0.33333333, 0.33333333,\n",
      "       0.33333333, 0.33333333, 0.33333333, 0.33333333, 0.33333333,\n",
      "       0.33333333, 0.33333333, 0.33333333, 0.33333333, 0.33333333,\n",
      "       0.33333333, 0.33333333, 0.33333333, 0.33333333, 0.33333333,\n",
      "       0.33333333, 0.33333333, 0.33333333, 0.33333333, 0.33333333,\n",
      "       0.33333333, 0.33333333, 0.33333333, 0.33333333, 0.33333333,\n",
      "       0.33333333, 0.33333333, 0.33333333, 0.33333333, 0.33333333,\n",
      "       0.33333333, 0.33333333, 0.33333333, 0.33333333, 0.33333333,\n",
      "       0.33333333, 0.33333333, 0.33333333, 0.33333333, 0.33333333,\n",
      "       0.33333333, 0.33333333, 0.33333333, 0.33333333, 0.33333333,\n",
      "       0.33333333, 0.33333333, 0.33333333, 0.33333333, 0.33333333,\n",
      "       0.33333333, 0.33333333, 0.33333333, 0.33333333, 0.33333333,\n",
      "       0.33333333, 0.33333333, 0.33333333, 0.33333333, 0.33333333,\n",
      "       0.33333333, 0.33333333, 0.33333333, 0.33333333, 0.33333333,\n",
      "       0.33333333, 0.33333333, 0.33333333, 0.33333333, 0.33333333,\n",
      "       0.33333333, 0.33333333, 0.33333333, 0.33333333, 0.33333333,\n",
      "       0.33333333, 0.33333333, 0.33333333, 0.33333333, 0.33333333,\n",
      "       0.33333333, 0.33333333, 0.33333333, 0.33333333, 0.33333333,\n",
      "       0.33333333, 0.33333333, 0.33333333, 0.33333333, 0.33333333,\n",
      "       0.33333333, 0.33333333, 0.33333333, 0.33333333, 0.33333333,\n",
      "       0.33333333, 0.33333333, 0.33333333, 0.33333333, 0.33333333,\n",
      "       0.33333333, 0.33333333, 0.33333333, 0.33333333, 0.33333333,\n",
      "       0.33333333, 0.33333333, 0.33333333, 0.33333333, 0.33333333,\n",
      "       0.33333333, 0.33333333, 0.33333333, 0.33333333, 0.33333333,\n",
      "       0.33333333, 0.33333333, 0.33333333, 0.33333333, 0.33333333,\n",
      "       0.33333333, 0.33333333, 0.33333333, 0.33333333, 0.33333333,\n",
      "       0.33333333, 0.33333333, 0.33333333, 0.33333333, 0.33333333,\n",
      "       0.33333333, 0.33333333, 0.33333333, 0.33333333, 0.33333333,\n",
      "       0.33333333, 0.33333333, 0.33333333, 0.33333333, 0.33333333,\n",
      "       0.33333333, 0.33333333, 0.33333333, 0.33333333, 0.33333333,\n",
      "       0.33333333, 0.33333333, 0.33333333, 0.33333333, 0.33333333,\n",
      "       0.33333333, 0.33333333, 0.33333333, 0.33333333, 0.33333333,\n",
      "       0.33333333, 0.33333333, 0.33333333, 0.33333333, 0.33333333,\n",
      "       0.33333333, 0.33333333, 0.33333333, 0.33333333, 0.33333333,\n",
      "       0.33333333, 0.33333333, 0.33333333, 0.33333333, 0.33333333,\n",
      "       0.33333333, 0.33333333, 0.33333333, 0.33333333, 0.33333333,\n",
      "       0.33333333, 0.33333333, 0.33333333, 0.33333333, 0.33333333,\n",
      "       0.33333333, 0.33333333, 0.33333333, 0.33333333, 0.33333333,\n",
      "       0.33333333, 0.33333333, 0.33333333, 0.33333333, 0.33333333,\n",
      "       0.33333333, 0.33333333, 0.33333333, 0.33333333, 0.33333333,\n",
      "       0.33333333, 0.33333333, 0.33333333, 0.33333333, 0.33333333,\n",
      "       0.33333333, 0.33333333, 0.33333333, 0.33333333, 0.33333333,\n",
      "       0.33333333, 0.33333333, 0.33333333, 0.33333333, 0.33333333,\n",
      "       0.33333333, 0.33333333, 0.33333333, 0.33333333, 0.33333333,\n",
      "       0.33333333, 0.33333333, 0.33333333, 0.33333333, 0.33333333])]\n",
      "---\n",
      "1\n",
      "2\n"
     ]
    }
   ],
   "source": [
    "arregloEcuacionesX = []\n",
    "arregloEcuacionesY = []\n",
    "for index in range(len(arregloRestricciones)):\n",
    "    x = arregloRestricciones[index][0]\n",
    "    print(x)\n",
    "    y = arregloRestricciones[index][1]\n",
    "    print(y)\n",
    "    c = arregloRestricciones[index][3]\n",
    "    print(c)\n",
    "    if x==0:\n",
    "        if y==0:\n",
    "            print(\"reinicie\")\n",
    "        else:\n",
    "            #0x+2y=6\n",
    "            arregloEcuacionesY.append((c-x*rangoX)/y)\n",
    "            print(\"---\")\n",
    "            print(arregloEcuacionesY)\n",
    "            print(\"---\")\n",
    "    elif y==0:\n",
    "        if x!=0:\n",
    "            #2x+0y=8\n",
    "            arregloEcuacionesX.append((c-0*rangoY)/x)\n",
    "            print(\"---\")\n",
    "            print(arregloEcuacionesX)\n",
    "            print(\"---\")\n",
    "    else:\n",
    "        #2x+3y=4\n",
    "        #3y=4-2x\n",
    "        #y=(4-2x)/3\n",
    "        arregloEcuacionesY.append((c-x*rangoX)/y)\n",
    "\n",
    "Z = X1_0*rangoX/X2_0\n",
    "print(len(arregloEcuacionesX))\n",
    "print(len(arregloEcuacionesY))"
   ]
  },
  {
   "cell_type": "code",
   "execution_count": 162,
   "metadata": {},
   "outputs": [
    {
     "data": {
      "text/plain": [
       "[<matplotlib.lines.Line2D at 0x12b7c81f0>]"
      ]
     },
     "execution_count": 162,
     "metadata": {},
     "output_type": "execute_result"
    },
    {
     "data": {
      "image/png": "[encoded data removed]",
      "text/plain": [
       "<Figure size 640x480 with 1 Axes>"
      ]
     },
     "metadata": {},
     "output_type": "display_data"
    }
   ],
   "source": [
    "plt.axis([0,size,0,size])\n",
    "for index in range(len(arregloEcuacionesY)):\n",
    "    plt.plot(rangoX,  arregloEcuacionesY[index])\n",
    "for index in range(len(arregloEcuacionesX)):\n",
    "    plt.plot(arregloEcuacionesX[index], rangoY)\n",
    "plt.plot(rangoX, Z)"
   ]
  },
  {
   "cell_type": "code",
   "execution_count": null,
   "metadata": {},
   "outputs": [],
   "source": [
    "for ecuacion in arregloRestricciones:\n",
    "    restic = Restriccion(ecuacion[0],ecuacion[1],ecuacion[2],ecuacion[3]) "
   ]
  },
  {
   "cell_type": "code",
   "execution_count": null,
   "metadata": {},
   "outputs": [],
   "source": []
  }
 ],
 "metadata": {
  "kernelspec": {
   "display_name": "Python 3.9.6 64-bit",
   "language": "python",
   "name": "python3"
  },
  "language_info": {
   "codemirror_mode": {
    "name": "ipython",
    "version": 3
   },
   "file_extension": ".py",
   "mimetype": "text/x-python",
   "name": "python",
   "nbconvert_exporter": "python",
   "pygments_lexer": "ipython3",
   "version": "3.9.6"
  },
  "orig_nbformat": 4,
  "vscode": {
   "interpreter": {
    "hash": "31f2aee4e71d21fbe5cf8b01ff0e069b9275f58929596ceb00d14d90e3e16cd6"
   }
  }
 },
 "nbformat": 4,
 "nbformat_minor": 2
}
