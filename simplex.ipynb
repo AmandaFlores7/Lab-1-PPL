{
 "cells": [
  {
   "cell_type": "code",
   "execution_count": 6,
   "id": "7b01b43c",
   "metadata": {},
   "outputs": [],
   "source": [
    "import numpy as np\n",
    "\n",
    "x1 = -4\n",
    "x2 = -6\n",
    "minomax = 0\n",
    "res = 2\n",
    "mres = np.array([[-1,1,11],[1,1,27]])\n",
    " "
   ]
  },
  {
   "cell_type": "code",
   "execution_count": 7,
   "id": "5db7f0bd",
   "metadata": {},
   "outputs": [],
   "source": [
    "def difs(res,a,x):\n",
    "\n",
    "    dif = np.zeros((res))\n",
    "    \n",
    "    for i in range(res):\n",
    "        dif[i] = a[i+1,res+2]/a[i+1,x]\n",
    "        print(dif[i])\n",
    "\n",
    "    for i in range(res-1):\n",
    "        if(dif[i]>0 and dif[i] <= dif[i+1]):\n",
    "            return i\n",
    "        if(i == res-1):\n",
    "            return i+1"
   ]
  },
  {
   "cell_type": "code",
   "execution_count": 8,
   "id": "a387c525",
   "metadata": {},
   "outputs": [],
   "source": [
    "def graficar(rx):    \n",
    "    fig = plt.figure(figsize=(6,5))\n",
    "    left, bottom, width, height = 0.1, 0.1, 0.8, 0.8\n",
    "    ax = fig.add_axes([left, bottom, width, height])\n",
    "    \n",
    "    start, stop, n_values = 0, 30,2000\n",
    "\n",
    "    x_vals = np.linspace(start, stop, n_values)\n",
    "    y_vals = np.linspace(start, stop, n_values)\n",
    "    x1_vals = np.linspace(start, stop, n_values)\n",
    "    X, Y = np.meshgrid(x_vals, y_vals)\n",
    "    Z = rx[0,0] * X + rx[0,1] * Y\n",
    "\n",
    "    # Grafica\n",
    "    plt.title('Curva de nivel + Restricciones')\n",
    "    color = ['GreenYellow', 'Olive', 'royalBlue']\n",
    "    for i in range(res):\n",
    "        plt.plot(x_vals, (rx[i+1,2]-rx[i+1,0] * x1_vals)/rx[i+1,1], color[i], label=f'R{i+1}')\n",
    "\n",
    "    # Etiquetas\n",
    "    plt.legend(bbox_to_anchor=(1.4, 1), loc=0, borderaxespad=0.)\n",
    "\n",
    "    cp = plt.contourf(X, Y, Z, cmap='Blues')\n",
    "    plt.colorbar(cp)\n",
    "\n",
    "    # Guardar graficos\n",
    "    plt.savefig(\"graficos.png\")\n",
    "    plt.show()"
   ]
  },
  {
   "cell_type": "code",
   "execution_count": 9,
   "id": "ba737525",
   "metadata": {},
   "outputs": [
    {
     "name": "stdout",
     "output_type": "stream",
     "text": [
      "[[-4. -6.  0.  0.  0.]\n",
      " [ 0.  0.  0.  0.  0.]\n",
      " [ 0.  0.  0.  0.  0.]]\n",
      "[[-4. -6.  0.  0.  0.]\n",
      " [-1.  1.  1.  0. 11.]\n",
      " [ 1.  1.  0.  1. 27.]]\n",
      "-11.0\n",
      "27.0\n",
      "0\n",
      "None 0\n"
     ]
    },
    {
     "name": "stderr",
     "output_type": "stream",
     "text": [
      "/var/folders/dm/7czbns1s6j9d9kzxywssklhc0000gn/T/ipykernel_3742/1000001700.py:38: RuntimeWarning: divide by zero encountered in divide\n",
      "  a[dif]= np.divide(a[dif],a[dif,iteration])\n",
      "/var/folders/dm/7czbns1s6j9d9kzxywssklhc0000gn/T/ipykernel_3742/1000001700.py:38: RuntimeWarning: invalid value encountered in divide\n",
      "  a[dif]= np.divide(a[dif],a[dif,iteration])\n"
     ]
    },
    {
     "ename": "ValueError",
     "evalue": "The truth value of an array with more than one element is ambiguous. Use a.any() or a.all()",
     "output_type": "error",
     "traceback": [
      "\u001b[0;31m---------------------------------------------------------------------------\u001b[0m",
      "\u001b[0;31mValueError\u001b[0m                                Traceback (most recent call last)",
      "Cell \u001b[0;32mIn [9], line 55\u001b[0m\n\u001b[1;32m     52\u001b[0m         \u001b[38;5;28;01mif\u001b[39;00m(a[\u001b[38;5;241m0\u001b[39m,\u001b[38;5;241m0\u001b[39m]\u001b[38;5;241m>\u001b[39m\u001b[38;5;241m=\u001b[39m\u001b[38;5;241m0\u001b[39m)\u001b[38;5;129;01mand\u001b[39;00m(a[\u001b[38;5;241m0\u001b[39m,\u001b[38;5;241m1\u001b[39m]\u001b[38;5;241m>\u001b[39m\u001b[38;5;241m=\u001b[39m\u001b[38;5;241m0\u001b[39m)\u001b[38;5;129;01mand\u001b[39;00m(a[\u001b[38;5;241m0\u001b[39m,\u001b[38;5;241m2\u001b[39m]\u001b[38;5;241m>\u001b[39m\u001b[38;5;241m=\u001b[39m\u001b[38;5;241m0\u001b[39m)\u001b[38;5;129;01mand\u001b[39;00m(a[\u001b[38;5;241m0\u001b[39m,\u001b[38;5;241m3\u001b[39m]\u001b[38;5;241m>\u001b[39m\u001b[38;5;241m=\u001b[39m\u001b[38;5;241m0\u001b[39m)\u001b[38;5;129;01mand\u001b[39;00m(a[\u001b[38;5;241m0\u001b[39m,\u001b[38;5;241m4\u001b[39m]\u001b[38;5;241m>\u001b[39m\u001b[38;5;241m=\u001b[39m\u001b[38;5;241m0\u001b[39m):\n\u001b[1;32m     53\u001b[0m             \u001b[38;5;28;01mreturn\u001b[39;00m a[\u001b[38;5;241m0\u001b[39m,\u001b[38;5;241m5\u001b[39m]\n\u001b[0;32m---> 55\u001b[0m \u001b[38;5;28mprint\u001b[39m(\u001b[43msimple\u001b[49m\u001b[43m(\u001b[49m\u001b[43mx1\u001b[49m\u001b[43m,\u001b[49m\u001b[43mx2\u001b[49m\u001b[43m,\u001b[49m\u001b[43mminomax\u001b[49m\u001b[43m,\u001b[49m\u001b[43mres\u001b[49m\u001b[43m,\u001b[49m\u001b[43mmres\u001b[49m\u001b[43m)\u001b[49m)  \n\u001b[1;32m     56\u001b[0m graficar(rx)\n",
      "Cell \u001b[0;32mIn [9], line 40\u001b[0m, in \u001b[0;36msimple\u001b[0;34m(x1, x2, minomax, res, mres)\u001b[0m\n\u001b[1;32m     38\u001b[0m a[dif]\u001b[38;5;241m=\u001b[39m np\u001b[38;5;241m.\u001b[39mdivide(a[dif],a[dif,iteration])\n\u001b[1;32m     39\u001b[0m \u001b[38;5;28mprint\u001b[39m(dif,iteration)\n\u001b[0;32m---> 40\u001b[0m \u001b[38;5;28;01mif\u001b[39;00m  a[dif,iteration]\u001b[38;5;241m<\u001b[39m\u001b[38;5;241m0\u001b[39m:\n\u001b[1;32m     41\u001b[0m     a[dif] \u001b[38;5;241m=\u001b[39m a[dif]\u001b[38;5;241m*\u001b[39m\u001b[38;5;241m-\u001b[39m\u001b[38;5;241m1\u001b[39m\n\u001b[1;32m     43\u001b[0m \u001b[38;5;28;01mfor\u001b[39;00m i \u001b[38;5;129;01min\u001b[39;00m \u001b[38;5;28mrange\u001b[39m(res\u001b[38;5;241m+\u001b[39m\u001b[38;5;241m1\u001b[39m):\n",
      "\u001b[0;31mValueError\u001b[0m: The truth value of an array with more than one element is ambiguous. Use a.any() or a.all()"
     ]
    }
   ],
   "source": [
    "def simple(x1,x2,minomax,res,mres):\n",
    "\n",
    "    a = np.zeros((res+1,res+3))\n",
    "    \n",
    "    a[0,0] = x1\n",
    "    a[0,1] = x2\n",
    "    \n",
    "    rx = np.zeros((res+1,3))\n",
    "    \n",
    "    print(a)\n",
    "    \n",
    "    for i in range(res):\n",
    "        a[i+1,0] = mres[i,0]\n",
    "        a[i+1,1] = mres[i,1]\n",
    "        a[i+1,i+2] = 1\n",
    "        a[i+1,res+2] = mres[i,2]\n",
    "        \n",
    "    for i in range(res+1):\n",
    "        for k in range(2):\n",
    "            rx[i,k] = a[i,k]\n",
    "        rx[i,2] = a[i,res+2]\n",
    "        \n",
    "    print(a)\n",
    "    iteration=0\n",
    "    while(1):\n",
    "        \n",
    "        dif = difs(res,a,iteration)\n",
    "        \n",
    "        if(iteration >= 2):\n",
    "            for i in range(res+2):\n",
    "                if a[0,i]<0:\n",
    "                    iteration = i\n",
    "                    break\n",
    "            for i in range(res):\n",
    "                if(a[i+1,0]!=1)and(a[i+1,0]!=1):\n",
    "                    dif=i           \n",
    "        print(iteration)\n",
    "        a[dif]= np.divide(a[dif],a[dif,iteration])\n",
    "        print(dif,iteration)\n",
    "        if  a[dif,iteration]<0:\n",
    "            a[dif] = a[dif]*-1\n",
    "            \n",
    "        for i in range(res+1):\n",
    "            print(a)\n",
    "            if dif!=i:\n",
    "                a[i] = np.add(a[i],-(a[dif]*a[i,iteration]))\n",
    "                    \n",
    "        if iteration < 2:\n",
    "            iteration = iteration+1\n",
    "        \n",
    "        \n",
    "        if(a[0,0]>=0)and(a[0,1]>=0)and(a[0,2]>=0)and(a[0,3]>=0)and(a[0,4]>=0):\n",
    "            return a[0,5]\n",
    "\n",
    "print(simple(x1,x2,minomax,res,mres))  \n",
    "graficar(rx)"
   ]
  },
  {
   "cell_type": "code",
   "execution_count": null,
   "id": "ef7f78c9",
   "metadata": {},
   "outputs": [],
   "source": []
  }
 ],
 "metadata": {
  "kernelspec": {
   "display_name": "Python 3.10.7 64-bit",
   "language": "python",
   "name": "python3"
  },
  "language_info": {
   "codemirror_mode": {
    "name": "ipython",
    "version": 3
   },
   "file_extension": ".py",
   "mimetype": "text/x-python",
   "name": "python",
   "nbconvert_exporter": "python",
   "pygments_lexer": "ipython3",
   "version": "3.10.7"
  },
  "vscode": {
   "interpreter": {
    "hash": "aee8b7b246df8f9039afb4144a1f6fd8d2ca17a180786b69acc140d282b71a49"
   }
  }
 },
 "nbformat": 4,
 "nbformat_minor": 5
}
