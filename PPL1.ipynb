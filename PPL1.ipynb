{
 "cells": [
  {
   "cell_type": "code",
   "execution_count": 1,
   "metadata": {},
   "outputs": [],
   "source": [
    "import matplotlib.pyplot as plt\n",
    "import numpy as np"
   ]
  },
  {
   "cell_type": "code",
   "execution_count": 2,
   "metadata": {},
   "outputs": [],
   "source": [
    "\n",
    "class Restriccion:\n",
    "    def __init__(self, x1, x2, c, tipo):\n",
    "        self.x1 = x1\n",
    "        self.x2 = x2\n",
    "        self.c = c\n",
    "        self.valorX0 = 0\n",
    "        self.valorY0 = 0\n",
    "        self.listaX = []\n",
    "        self.listaY = []\n",
    "        self.total = []\n",
    "        self.tipo = tipo\n",
    "        \n",
    "    def puntosEjes(self):\n",
    "        if self.x1 == 0:\n",
    "            #0x+3y=6\n",
    "            self.valorY0 = self.c/self.x2\n",
    "        elif self.x2 == 0:\n",
    "            #3x+0y=6\n",
    "            self.valorX0 = self.c/self.x1\n",
    "        else:\n",
    "            #0x+3y=6\n",
    "            self.valorX0 = self.c/self.x1\n",
    "            self.valorY0 = self.c/self.x2\n",
    "            \n",
    "    def despejar(self):\n",
    "        self.total = np.arange(0,float(self.valorX0)+1)\n",
    "        if self.x1 == 0:\n",
    "            self.listaY = (self.c+0*self.total)/self.x2\n",
    "            #0x+3y=6\n",
    "        elif self.x2 == 0:\n",
    "            #3x+0y=6\n",
    "            self.listaX = (self.c-0*self.x2)/self.x1\n",
    "        else:\n",
    "            #4x+3y=6\n",
    "            self.listaY = (self.c-self.x1*self.total)/self.x2\n",
    "            \n",
    "    def graficar(self):\n",
    "        plt.plot(self.listaY, \"red\")\n",
    "        plt.plot(self.listaX, \"pink\")"
   ]
  },
  {
   "cell_type": "code",
   "execution_count": 3,
   "metadata": {},
   "outputs": [],
   "source": [
    "class funcionObjetivo:\n",
    "    def __init__(self,x1,x2,tipo):\n",
    "        self.x1 = x1\n",
    "        self.x2 = x2\n",
    "        self.tipo = tipo\n",
    "        self.z = 0\n",
    "        self.puntosFactibles = []"
   ]
  },
  {
   "cell_type": "code",
   "execution_count": 4,
   "metadata": {},
   "outputs": [],
   "source": [
    "def inputNumerico(string):\n",
    "    while(True):\n",
    "        valor = float(input(string))\n",
    "        if(isinstance(valor, float)):\n",
    "            return valor\n",
    "        else:\n",
    "            print(\"Error, ingrese un valor numerico\")"
   ]
  },
  {
   "cell_type": "code",
   "execution_count": 5,
   "metadata": {},
   "outputs": [],
   "source": [
    "def inputMinMax(string):\n",
    "    while(True):\n",
    "        if string==\"min\":\n",
    "            return string\n",
    "        elif string=='max':\n",
    "            return string\n",
    "        else:\n",
    "            print(\"Error, ingrese min o max nuevamente\")"
   ]
  },
  {
   "cell_type": "code",
   "execution_count": 6,
   "metadata": {},
   "outputs": [
    {
     "name": "stdout",
     "output_type": "stream",
     "text": [
      "Ingrese lo coeficientes para X1 e X2 para la Funcion Objetivo: Z = __X1 + __X2\n"
     ]
    }
   ],
   "source": [
    "\n",
    "print(\"Ingrese lo coeficientes para X1 e X2 para la Funcion Objetivo: Z = __X1 + __X2\")\n",
    "X1_0 = float(inputNumerico(\"Coeficiente de X1: \"))\n",
    "X2_0 = float(inputNumerico(\"Coeficiente de X2: \"))\n",
    "print(\"Ingrese min para Minimizacion y max para Maximizacion\")\n",
    "tipo = str(inputMinMax(\"min o max : \"))\n"
   ]
  },
  {
   "cell_type": "code",
   "execution_count": 6,
   "metadata": {},
   "outputs": [],
   "source": [
    "def validacionCantidadR(string):\n",
    "    while(True):\n",
    "        r = int(input(string))\n",
    "        if (r < 6):\n",
    "            return r\n",
    "        else:\n",
    "            print(\"Ingrese un valor menor o igual a 5\")"
   ]
  },
  {
   "cell_type": "code",
   "execution_count": 7,
   "metadata": {},
   "outputs": [
    {
     "name": "stdout",
     "output_type": "stream",
     "text": [
      "Ingrese cantidad de restricciones (5 o menos)\n"
     ]
    }
   ],
   "source": [
    "#Cantidad de restricciones\n",
    "print(\"Ingrese cantidad de restricciones (5 o menos)\")\n",
    "r = validacionCantidadR(\"Valor: \")"
   ]
  },
  {
   "cell_type": "code",
   "execution_count": 9,
   "metadata": {},
   "outputs": [],
   "source": [
    "def agregarRestriccion(R1,R2,I,C):\n",
    "    if I==0:\n",
    "        return [[R1,R2,C,I]]\n",
    "    elif I==1:\n",
    "        return [[-R1,-R2,-C,0]]\n",
    "    elif I==2:\n",
    "        return [[R1,R2,I,C],[-R1,-R2,-C,0]]"
   ]
  },
  {
   "cell_type": "code",
   "execution_count": 10,
   "metadata": {},
   "outputs": [],
   "source": [
    "def validacionIgualdad(string):\n",
    "    while(True):\n",
    "        igualdad = input(string)\n",
    "        if igualdad==\"<=\":\n",
    "            return 0\n",
    "        elif igualdad==\">=\":\n",
    "            return 1\n",
    "        elif igualdad==\"=\":\n",
    "            return 2\n",
    "        else:\n",
    "            print(\"Ingrese un signo valido\")"
   ]
  },
  {
   "cell_type": "code",
   "execution_count": 171,
   "metadata": {},
   "outputs": [
    {
     "name": "stdout",
     "output_type": "stream",
     "text": [
      "Ingrese los coeficientes para la restriccion R 1 : __X1 + __X2 (<=, >=, =) C\n",
      "1\n",
      "Ingrese los coeficientes para la restriccion R 2 : __X1 + __X2 (<=, >=, =) C\n",
      "2\n",
      "Ingrese los coeficientes para la restriccion R 3 : __X1 + __X2 (<=, >=, =) C\n",
      "3\n",
      "Ingrese los coeficientes para la restriccion R 4 : __X1 + __X2 (<=, >=, =) C\n",
      "4\n"
     ]
    }
   ],
   "source": [
    "arregloRestricciones = []\n",
    "arregloRestricciones.clear()\n",
    "for index in range(r):\n",
    "    print(\"Ingrese los coeficientes para la restriccion R\",index+1,\": __X1 + __X2 (<=, >=, =) C\")\n",
    "    R1 = float(inputNumerico(\"Coeficiente de X1: \"))\n",
    "    R2 = float(inputNumerico(\"Coeficiente de X2: \"))\n",
    "    I = float(validacionIgualdad(\"Signo igualdad: \"))\n",
    "    C = float(inputNumerico(\"Coeficiente C: \"))\n",
    "    restriccion34 = Restriccion(R1,R2,C,I)\n",
    "    arregloRestricciones.append(restriccion34)\n",
    "        \n",
    "    print(len(arregloRestricciones))\n"
   ]
  },
  {
   "cell_type": "code",
   "execution_count": 104,
   "metadata": {},
   "outputs": [
    {
     "name": "stdout",
     "output_type": "stream",
     "text": [
      "[[2.0, 3.0, 6.0, 0.0], [2.0, 0.0, 6.0, 0.0], [0.0, -1.0, -1.0, 0.0], [-3.0, -3.0, -5.0, 0.0]]\n",
      "4\n"
     ]
    }
   ],
   "source": [
    "arregloRestricciones = []\n",
    "R1 = float(2)\n",
    "R2 = float(3)\n",
    "I = float(6)\n",
    "C = float(0)\n",
    "arregloRestricciones.extend(agregarRestriccion(R1,R2,C,I))\n",
    "R1 = float(2)\n",
    "R2 = float(0)\n",
    "I = float(6)\n",
    "C = float(0)\n",
    "arregloRestricciones.extend(agregarRestriccion(R1,R2,C,I))\n",
    "R1 = float(-0)\n",
    "R2 = float(-1)\n",
    "I = float(-1)\n",
    "C = float(0)\n",
    "arregloRestricciones.extend(agregarRestriccion(R1,R2,C,I))\n",
    "R1 = float(-3)\n",
    "R2 = float(-3)\n",
    "I = float(-5)\n",
    "C = float(0)\n",
    "arregloRestricciones.extend(agregarRestriccion(R1,R2,C,I))\n",
    "print(arregloRestricciones)\n",
    "print(len(arregloRestricciones))"
   ]
  },
  {
   "cell_type": "code",
   "execution_count": 172,
   "metadata": {},
   "outputs": [],
   "source": [
    "\n",
    "def hallarPuntos(restriccion):\n",
    "    valorx=0\n",
    "    valory=0\n",
    "    if restriccion[1]==0:\n",
    "        valorx=restriccion[2]/restriccion[0]\n",
    "    elif restriccion[0]==0:\n",
    "        valory=restriccion[2]/restriccion[1]\n",
    "    else:\n",
    "        valorx=restriccion[2]/restriccion[0]\n",
    "        valory=restriccion[2]/restriccion[1]\n",
    "    #print(\"valor x: \", valorx)\n",
    "    #print(\"valor y: \", valory)\n",
    "    return valorx,valory"
   ]
  },
  {
   "cell_type": "code",
   "execution_count": 189,
   "metadata": {},
   "outputs": [],
   "source": [
    "\n",
    "listaVertices = [(0,0)]\n",
    "def hallarVertices():\n",
    "    i = 0\n",
    "    j = i+1\n",
    "    for restriccion in arregloRestricciones:\n",
    "        listaVertices.append((restriccion.valorX0, 0.))\n",
    "        listaVertices.append((0., restriccion.valorY0))\n",
    "    while i < len(arregloRestricciones)-1:\n",
    "        while j < len(arregloRestricciones):\n",
    "            try:\n",
    "                a = np.array([[arregloRestricciones[i].x1, arregloRestricciones[i].x2],\n",
    "                               [arregloRestricciones[j].x1, arregloRestricciones[j].x2]])\n",
    "                b = np.array([arregloRestricciones[i].c,\n",
    "                              arregloRestricciones[j].c])\n",
    "                punto = np.linalg.solve(a, b)\n",
    "                listaVertices.append((punto[0], punto[1]))\n",
    "            except:\n",
    "                pass\n",
    "            j += 1\n",
    "        i += 1\n",
    "        j = i+1\n",
    "    \n",
    "    i = 0\n",
    "    while i < len(listaVertices):\n",
    "        if listaVertices[i][0] < 0 or listaVertices[i][1] < 0:\n",
    "            listaVertices.remove(listaVertices[i])\n",
    "        i += 1\n",
    "        \n",
    "    new = []\n",
    "    for i in listaVertices:\n",
    "        if i not in new:\n",
    "            new.append(i)\n",
    "    \n",
    "    listaVertices[0:len(listaVertices)] = new\n",
    "    print(\"listaVertices: \", listaVertices)\n"
   ]
  },
  {
   "cell_type": "code",
   "execution_count": 200,
   "metadata": {},
   "outputs": [
    {
     "name": "stdout",
     "output_type": "stream",
     "text": [
      "listaVertices:  [(0, 0), (3.0, 0.0), (0.0, 2.0), (0.0, 1.0), (1.6666666666666667, 0.0), (0.0, 1.6666666666666667), (1.5, 1.0), (3.0, 1.0), (0.6666666666666666, 1.0)]\n"
     ]
    },
    {
     "data": {
      "image/png": "[encoded data removed]",
      "text/plain": [
       "<Figure size 640x480 with 1 Axes>"
      ]
     },
     "metadata": {},
     "output_type": "display_data"
    }
   ],
   "source": [
    "\n",
    "from operator import concat\n",
    "\n",
    "\n",
    "puntos = []\n",
    "mayorX = 0\n",
    "mayorY = 0\n",
    "\n",
    "for restriccion in arregloRestricciones:\n",
    "    restriccion.puntosEjes()\n",
    "    if abs(restriccion.valorX0) > mayorX:\n",
    "        mayorX = abs(restriccion.valorX0)\n",
    "    if abs(restriccion.valorY0) > mayorY:\n",
    "        mayorY = restriccion.valorY0\n",
    "hallarVertices()\n",
    "\n",
    "\n",
    "letras = [\"0\", \"A\", \"B\", \"C\", \"D\", \"E\", \"F\", \"G\",\n",
    "          \"H\", \"I\", \"J\", \"K\", \"L\", \"M\", \"N\", \"O\", \"P\", \"Q\"]\n",
    "\n",
    "i = 0\n",
    "for vertice in listaVertices:\n",
    "    #texto = concat(str(round(vertice[0],1)),\", \")\n",
    "    #texto = concat(texto,str(round(vertice[1],1)))\n",
    "    #print(texto)\n",
    "    #plt.annotate(texto, xy=(vertice[0], vertice[1]), fontsize=12)\n",
    "    plt.annotate(letras[i], xy=(vertice[0], vertice[1]), fontsize=12)\n",
    "    plt.scatter(vertice[0], vertice[1], color=\"b\")\n",
    "    i += 1\n",
    "    \n"
   ]
  },
  {
   "cell_type": "code",
   "execution_count": 141,
   "metadata": {},
   "outputs": [
    {
     "name": "stdout",
     "output_type": "stream",
     "text": [
      "[2.         1.33333333 0.66666667 0.        ]\n",
      "[0. 0. 0. 0.]\n",
      "[0. 0. 0. 0.]\n",
      "[ 1.66666667  0.66666667 -0.33333333 -1.33333333]\n",
      "arrglo:  [2.0, 1.3333333333333333, 0.6666666666666666, 0.0, 0.0, 0.0, 0.0, 0.0, 1.0, 1.0, 1.0, 1.0, 1.6666666666666667, 0.6666666666666666, -0.3333333333333333, -1.3333333333333333]\n"
     ]
    },
    {
     "data": {
      "text/plain": [
       "[<matplotlib.lines.Line2D at 0x28600518610>]"
      ]
     },
     "execution_count": 141,
     "metadata": {},
     "output_type": "execute_result"
    },
    {
     "data": {
      "image/png": "[encoded data removed]",
      "text/plain": [
       "<Figure size 640x480 with 1 Axes>"
      ]
     },
     "metadata": {},
     "output_type": "display_data"
    }
   ],
   "source": [
    "i = 0\n",
    "listaResultados = []\n",
    "newPuntos = []\n",
    "arregloEcX = []\n",
    "arregloEcY = []\n",
    "for p in listaVertices:\n",
    "    listaResultados.append(\n",
    "        (letras[i], p[0], p[1], X1_0*p[0]+X2_0*p[1]))\n",
    "    i += 1\n",
    "\n",
    "j = 0\n",
    "for res in arregloRestricciones:\n",
    "    if mayorX <= 0:\n",
    "        mayorX = mayorY = 10\n",
    "        \n",
    "    newPuntos.append((mayorX,hallarPuntos(res)[1]))\n",
    "    #print(hallarPuntos(res))\n",
    "    arregloEcX = np.arange(0,float(mayorX+1))\n",
    "    if res[1]==0:\n",
    "        value = 0*arregloEcX\n",
    "        print(value)\n",
    "        arregloEcY.append(value)\n",
    "    elif res[0]==0:\n",
    "        value = 0*arregloEcX\n",
    "        print(value)\n",
    "        value = ((res[2]+(0*arregloEcX))/res[1])\n",
    "        arregloEcY.extend(value)\n",
    "    else:\n",
    "        value = (res[2]-res[0]*arregloEcX)/res[1]\n",
    "        print(value)\n",
    "        arregloEcY.extend(value)\n",
    "    \n",
    "\n",
    "    \n",
    "    j += 1\n",
    "    \n",
    "print(\"arrglo: \",arregloEcY)    \n",
    "plt.plot(arregloEcY,\"red\")\n",
    "#print(\"arrglo1: \",arregloEcY[0])\n",
    "#print(newPuntos)\n",
    "#print(puntos)\n",
    "\n"
   ]
  }
 ],
 "metadata": {
  "kernelspec": {
   "display_name": "Python 3.10.7 64-bit (microsoft store)",
   "language": "python",
   "name": "python3"
  },
  "language_info": {
   "codemirror_mode": {
    "name": "ipython",
    "version": 3
   },
   "file_extension": ".py",
   "mimetype": "text/x-python",
   "name": "python",
   "nbconvert_exporter": "python",
   "pygments_lexer": "ipython3",
   "version": "3.10.7"
  },
  "orig_nbformat": 4,
  "vscode": {
   "interpreter": {
    "hash": "ed09cf38676d70f1d49f0e15c6fd7087b3e148c0c97e378166805f6831832b21"
   }
  }
 },
 "nbformat": 4,
 "nbformat_minor": 2
}
